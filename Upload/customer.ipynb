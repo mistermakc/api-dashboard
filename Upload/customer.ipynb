{
 "cells": [
  {
   "cell_type": "code",
   "execution_count": null,
   "metadata": {},
   "outputs": [],
   "source": [
    "#%%\n",
    "\n",
    "import os\n",
    "import sqlalchemy\n",
    "SQLALCHEMY_SILENCE_UBER_WARNING = 1\n",
    "import pandas as pd\n",
    "import seaborn as sns\n",
    "import matplotlib.pyplot as plt"
   ]
  }
 ],
 "metadata": {
  "kernelspec": {
   "display_name": "base",
   "language": "python",
   "name": "python3"
  },
  "language_info": {
   "name": "python",
   "version": "3.9.12"
  },
  "orig_nbformat": 4,
  "vscode": {
   "interpreter": {
    "hash": "41c8615d3a1384478d4a1bd593ccf05fef5ae623a4311fa8d4e4b94d82c76821"
   }
  }
 },
 "nbformat": 4,
 "nbformat_minor": 2
}
