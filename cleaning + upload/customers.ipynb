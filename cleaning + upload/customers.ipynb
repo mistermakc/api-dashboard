{
 "cells": [
  {
   "cell_type": "code",
   "execution_count": 1,
   "metadata": {},
   "outputs": [],
   "source": [
    "import os\n",
    "import sqlalchemy\n",
    "SQLALCHEMY_SILENCE_UBER_WARNING = 1\n",
    "import pandas as pd\n",
    "import seaborn as sns\n",
    "import matplotlib.pyplot as plt"
   ]
  },
  {
   "cell_type": "code",
   "execution_count": 3,
   "metadata": {},
   "outputs": [],
   "source": [
    "def load_csv_from_drive(drive_url):\n",
    "    url='https://drive.google.com/uc?id=' + drive_url.split('/')[-2]\n",
    "    customers = pd.read_csv(url)\n",
    "    return customers\n",
    "\n",
    "drive_url = 'https://drive.google.com/file/d/1AEznJVubr_k9t_Z7oM69RjUmhXfSDXv_/view?usp=share_link'\n",
    "customers = load_csv_from_drive(drive_url)"
   ]
  },
  {
   "cell_type": "code",
   "execution_count": null,
   "metadata": {},
   "outputs": [],
   "source": [
    "def connect_tcp_socket() -> sqlalchemy.engine.base.Engine:\n",
    "    \"\"\" Initializes a TCP connection pool for a Cloud SQL instance of MySQL. \"\"\"\n",
    "    db_host = \"34.132.33.93\" # e.g. '34.132.33.93' ('172.17.0.1' if deployed to GAE Flex)\n",
    "    db_user = \"root\" # e.g. 'my-db-user'\n",
    "    db_pass = \"Pandas2020!\" # e.g. 'my-db-password'\n",
    "    db_name = \"database\" # e.g. 'my-database'\n",
    "    db_port = 3306 # e.g. 3306\n",
    "\n",
    "    engine = sqlalchemy.create_engine(\n",
    "        sqlalchemy.engine.url.URL.create(\n",
    "            drivername=\"mysql+pymysql\",\n",
    "            username=db_user,\n",
    "            password=db_pass,\n",
    "            host=db_host,\n",
    "            port=db_port,\n",
    "            database=db_name,\n",
    "        ),\n",
    "    )\n",
    "    return engine\n",
    "\n",
    "engine = connect_tcp_socket() \n",
    "conn = engine.connect()"
   ]
  },
  {
   "cell_type": "code",
   "execution_count": null,
   "metadata": {},
   "outputs": [],
   "source": [
    "result = conn.execute(\"SHOW TABLES;\").fetchall()\n",
    "for r in result:\n",
    "    print(r)"
   ]
  },
  {
   "cell_type": "code",
   "execution_count": null,
   "metadata": {},
   "outputs": [],
   "source": [
    "customers.info()\n",
    "f, ax = plt.subplots(figsize=(10, 6))\n",
    "sns.histplot(customers['age'], color='#4B2362')"
   ]
  },
  {
   "cell_type": "code",
   "execution_count": null,
   "metadata": {},
   "outputs": [],
   "source": [
    "customers.head()"
   ]
  },
  {
   "cell_type": "code",
   "execution_count": 4,
   "metadata": {},
   "outputs": [
    {
     "data": {
      "text/plain": [
       "Index(['<!DOCTYPE html><html><head><title>Google Drive - Virus scan warning</title><meta http-equiv=\"content-type\" content=\"text/html; charset=utf-8\"/><style nonce=\"ErKFHfIlaJbtNs-bgzqTvg\">.goog-inline-block{position:relative;display:-moz-inline-box;display:inline-block}* html .goog-inline-block{display:inline}*:first-child+html .goog-inline-block{display:inline}.goog-link-button{position:relative;color:#15c;text-decoration:underline;cursor:pointer}.goog-link-button-disabled{color:#ccc;text-decoration:none;cursor:default}body{color:#222;font:normal 13px/1.4 arial',\n",
       "       'sans-serif;margin:0}.grecaptcha-badge{visibility:hidden}.uc-main{padding-top:50px;text-align:center}#uc-dl-icon{display:inline-block;margin-top:16px;padding-right:1em;vertical-align:top}#uc-text{display:inline-block;max-width:68ex;text-align:left}.uc-error-caption',\n",
       "       '.uc-warning-caption{color:#222;font-size:16px}#uc-download-link{text-decoration:none}.uc-name-size a{color:#15c;text-decoration:none}.uc-name-size a:visited{color:#61c;text-decoration:none}.uc-name-size a:active{color:#d14836;text-decoration:none}.uc-footer{color:#777;font-size:11px;padding-bottom:5ex;padding-top:5ex;text-align:center}.uc-footer a{color:#15c}.uc-footer a:visited{color:#61c}.uc-footer a:active{color:#d14836}.uc-footer-divider{color:#ccc;width:100%}sentinel{}</style><link rel=\"icon\" href=\"//ssl.gstatic.com/docs/doclist/images/drive_2022q3_32dp.png\"/></head><body><div class=\"uc-main\"><div id=\"uc-dl-icon\" class=\"image-container\"><div class=\"drive-sprite-aux-download-file\"></div></div><div id=\"uc-text\"><p class=\"uc-warning-caption\">Google Drive can't scan this file for viruses.</p><p class=\"uc-warning-subcaption\"><span class=\"uc-name-size\"><a href=\"/open?id=1AEznJVubr_k9t_Z7oM69RjUmhXfSDXv_\">customers.csv</a> (198M)</span> is too large for Google to scan for viruses. Would you still like to download this file?</p><form id=\"download-form\" action=\"https://drive.google.com/uc?id=1AEznJVubr_k9t_Z7oM69RjUmhXfSDXv_&amp;confirm=t&amp;uuid=d29e336f-7c70-4e2c-869a-d0d0f53b43be\" method=\"post\"><input type=\"submit\" id=\"uc-download-link\" class=\"goog-inline-block jfk-button jfk-button-action\" value=\"Download anyway\"/></form></div></div><div class=\"uc-footer\"><hr class=\"uc-footer-divider\"></div></body></html>'],\n",
       "      dtype='object')"
      ]
     },
     "execution_count": 4,
     "metadata": {},
     "output_type": "execute_result"
    }
   ],
   "source": [
    "customers.select_dtypes(include=['int64']).columns\n",
    "customers.select_dtypes(include=['float64']).columns\n",
    "customers.select_dtypes(include=['object']).columns"
   ]
  },
  {
   "cell_type": "code",
   "execution_count": null,
   "metadata": {},
   "outputs": [],
   "source": [
    "# Printing the amount of features available in total\n",
    "count_numerical = len(customers.select_dtypes(include=['int64','float64']).columns)\n",
    "count_categorical = len(customers.select_dtypes(include=['object']).columns)\n",
    "count_total = count_categorical + count_numerical\n",
    "print('Total Features: ', count_categorical, 'categorical', '+',\n",
    "      count_numerical, 'numerical', '=', count_total, 'features')"
   ]
  },
  {
   "cell_type": "code",
   "execution_count": null,
   "metadata": {},
   "outputs": [],
   "source": [
    "# Detecting the number of missing or null values per variable\n",
    "pd.concat([customers.isnull().sum(),customers.isna().sum(min_count=1)],keys=['Nulls','Empty'],axis=1).sort_values(by='Nulls', ascending=False)[:20]"
   ]
  },
  {
   "cell_type": "code",
   "execution_count": null,
   "metadata": {},
   "outputs": [],
   "source": [
    "# Encoding \"Fashion News Frequency\" variable\n",
    "def encode_fashion(x):\n",
    "    if x == 'NONE' or x == 'None':\n",
    "        return 0\n",
    "    if x == 'Regularly':\n",
    "        return 1\n",
    "    if x == 'Monthly':\n",
    "        return 2\n",
    "    if x == 'nan':\n",
    "        return \"\"\n",
    "    \n",
    "customers['fashion_news_frequency'] = customers['fashion_news_frequency'].transform(encode_fashion)\n",
    "customers\n",
    "\n",
    "#%%\n",
    "# Imputing missing values\n",
    "customers[\"Active\"] = customers[\"Active\"].fillna(0)\n",
    "customers[\"FN\"] = customers[\"FN\"].fillna(0)\n",
    "customers[\"fashion_news_frequency\"] = customers[\"fashion_news_frequency\"].interpolate(method ='pad', limit_direction ='forward')\n",
    "customers[\"club_member_status\"] = customers[\"club_member_status\"].fillna(\"INACTIVE\")\n",
    "customers[\"age\"] = customers[\"age\"].interpolate(method ='pad', limit_direction ='forward')\n",
    "\n",
    "#%%\n",
    "# Encoding \"Club Member Status\" variable\n",
    "def encode_club(x):\n",
    "    if x == 'INACTIVE':\n",
    "        return 0\n",
    "    if x == 'ACTIVE':\n",
    "        return 1\n",
    "    if x == 'LEFT CLUB':\n",
    "        return 3\n",
    "    if x == 'PRE-CREATE':\n",
    "        return 4\n",
    "    \n",
    "customers['club_member_status'] = customers['club_member_status'].transform(encode_club)\n",
    "customers\n",
    "\n",
    "#%%\n",
    "# Transforming \"Active\", \"FN\", \"fashion_news_frequency\", and \"age\" variable\n",
    "customers['Active'] = customers['Active'].astype(int)\n",
    "customers['FN'] = customers['FN'].astype(int)\n",
    "customers['fashion_news_frequency'] = customers['fashion_news_frequency'].astype(int)\n",
    "customers['age'] = customers['age'].astype(int)\n",
    "customers['club_member_status'] = customers['club_member_status'].astype(int)"
   ]
  },
  {
   "cell_type": "code",
   "execution_count": null,
   "metadata": {},
   "outputs": [],
   "source": [
    "pd.concat([customers.isnull().sum(),customers.isna().sum(min_count=1)],keys=['Nulls','Empty'],axis=1).sort_values(by='Nulls', ascending=False)[:20]"
   ]
  },
  {
   "cell_type": "code",
   "execution_count": null,
   "metadata": {},
   "outputs": [],
   "source": [
    "# Decoding \"Fashion News Frequency\" variable\n",
    "def decode_fashion(x):\n",
    "    if x == 0:\n",
    "        return 'None'\n",
    "    if x == 1:\n",
    "        return 'Regularly'\n",
    "    if x == 2:\n",
    "        return 'Monthly'\n",
    "    \n",
    "customers['fashion_news_frequency'] = customers['fashion_news_frequency'].transform(decode_fashion)\n",
    "\n",
    "#%%\n",
    "# Decoding \"Club Member Status\" variable\n",
    "def decode_club(x):\n",
    "    if x == 0:\n",
    "        return 'Inactive'\n",
    "    if x == 1:\n",
    "        return 'Active'\n",
    "    if x == 3:\n",
    "        return 'Left Club'\n",
    "    if x == 4:\n",
    "        return 'Pre-Create'\n",
    "    \n",
    "customers['club_member_status'] = customers['club_member_status'].transform(decode_club)\n",
    "customers"
   ]
  },
  {
   "cell_type": "code",
   "execution_count": null,
   "metadata": {},
   "outputs": [],
   "source": [
    "# Uploading data to database\n",
    "customers.to_sql(name = \"customers\", con = conn, if_exists = 'fail', index = False) # no index will be uploaded to database as False"
   ]
  },
  {
   "cell_type": "code",
   "execution_count": null,
   "metadata": {},
   "outputs": [],
   "source": [
    "result = conn.execute(\"SHOW TABLES;\").fetchall()\n",
    "for r in result:\n",
    "    print(r) "
   ]
  }
 ],
 "metadata": {
  "kernelspec": {
   "display_name": "base",
   "language": "python",
   "name": "python3"
  },
  "language_info": {
   "codemirror_mode": {
    "name": "ipython",
    "version": 3
   },
   "file_extension": ".py",
   "mimetype": "text/x-python",
   "name": "python",
   "nbconvert_exporter": "python",
   "pygments_lexer": "ipython3",
   "version": "3.9.13"
  },
  "orig_nbformat": 4,
  "vscode": {
   "interpreter": {
    "hash": "41c8615d3a1384478d4a1bd593ccf05fef5ae623a4311fa8d4e4b94d82c76821"
   }
  }
 },
 "nbformat": 4,
 "nbformat_minor": 2
}
