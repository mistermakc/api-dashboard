{
 "cells": [
  {
   "cell_type": "code",
   "execution_count": null,
   "metadata": {},
   "outputs": [],
   "source": [
    "import os\n",
    "import sqlalchemy\n",
    "SQLALCHEMY_SILENCE_UBER_WARNING = 1\n",
    "import pandas as pd\n",
    "import seaborn as sns\n",
    "import matplotlib.pyplot as plt"
   ]
  },
  {
   "cell_type": "code",
   "execution_count": null,
   "metadata": {},
   "outputs": [],
   "source": [
    "def load_csv_from_drive(drive_url):\n",
    "    url='https://drive.google.com/uc?id=' + drive_url.split('/')[-2]\n",
    "    customers = pd.read_csv(url)\n",
    "    print(url)\n",
    "    return customers\n",
    "\n",
    "drive_url = 'https://drive.google.com/file/d/1AEznJVubr_k9t_Z7oM69RjUmhXfSDXv_/view?usp=share_link'\n",
    "customers = load_csv_from_drive(drive_url)"
   ]
  },
  {
   "cell_type": "code",
   "execution_count": null,
   "metadata": {},
   "outputs": [],
   "source": [
    "def connect_tcp_socket() -> sqlalchemy.engine.base.Engine:\n",
    "    \"\"\" Initializes a TCP connection pool for a Cloud SQL instance of MySQL. \"\"\"\n",
    "    db_host = \"34.132.33.93\" # e.g. '34.132.33.93' ('172.17.0.1' if deployed to GAE Flex)\n",
    "    db_user = \"root\" # e.g. 'my-db-user'\n",
    "    db_pass = \"Pandas2020!\" # e.g. 'my-db-password'\n",
    "    db_name = \"database\" # e.g. 'my-database'\n",
    "    db_port = 3306 # e.g. 3306\n",
    "\n",
    "    engine = sqlalchemy.create_engine(\n",
    "        sqlalchemy.engine.url.URL.create(\n",
    "            drivername=\"mysql+pymysql\",\n",
    "            username=db_user,\n",
    "            password=db_pass,\n",
    "            host=db_host,\n",
    "            port=db_port,\n",
    "            database=db_name,\n",
    "        ),\n",
    "    )\n",
    "    return engine\n",
    "\n",
    "engine = connect_tcp_socket() \n",
    "conn = engine.connect()"
   ]
  },
  {
   "cell_type": "code",
   "execution_count": null,
   "metadata": {},
   "outputs": [],
   "source": [
    "result = conn.execute(\"SHOW TABLES;\").fetchall()\n",
    "for r in result:\n",
    "    print(r)"
   ]
  },
  {
   "cell_type": "code",
   "execution_count": null,
   "metadata": {},
   "outputs": [],
   "source": [
    "customers.info()\n",
    "f, ax = plt.subplots(figsize=(10, 6))\n",
    "sns.histplot(customers['age'], color='#4B2362')"
   ]
  },
  {
   "cell_type": "code",
   "execution_count": null,
   "metadata": {},
   "outputs": [],
   "source": [
    "customers.head()"
   ]
  },
  {
   "cell_type": "code",
   "execution_count": 1,
   "metadata": {},
   "outputs": [
    {
     "ename": "NameError",
     "evalue": "name 'customers' is not defined",
     "output_type": "error",
     "traceback": [
      "\u001b[0;31m---------------------------------------------------------------------------\u001b[0m",
      "\u001b[0;31mNameError\u001b[0m                                 Traceback (most recent call last)",
      "\u001b[1;32m/Users/maxheilingbrunner/Documents/Capstone/Upload/customer.ipynb Cell 7\u001b[0m in \u001b[0;36m<cell line: 1>\u001b[0;34m()\u001b[0m\n\u001b[0;32m----> <a href='vscode-notebook-cell:/Users/maxheilingbrunner/Documents/Capstone/Upload/customer.ipynb#X10sZmlsZQ%3D%3D?line=0'>1</a>\u001b[0m customers\u001b[39m.\u001b[39mselect_dtypes(include\u001b[39m=\u001b[39m[\u001b[39m'\u001b[39m\u001b[39mint64\u001b[39m\u001b[39m'\u001b[39m])\u001b[39m.\u001b[39mcolumns\n\u001b[1;32m      <a href='vscode-notebook-cell:/Users/maxheilingbrunner/Documents/Capstone/Upload/customer.ipynb#X10sZmlsZQ%3D%3D?line=1'>2</a>\u001b[0m customers\u001b[39m.\u001b[39mselect_dtypes(include\u001b[39m=\u001b[39m[\u001b[39m'\u001b[39m\u001b[39mfloat64\u001b[39m\u001b[39m'\u001b[39m])\u001b[39m.\u001b[39mcolumns\n\u001b[1;32m      <a href='vscode-notebook-cell:/Users/maxheilingbrunner/Documents/Capstone/Upload/customer.ipynb#X10sZmlsZQ%3D%3D?line=2'>3</a>\u001b[0m customers\u001b[39m.\u001b[39mselect_dtypes(include\u001b[39m=\u001b[39m[\u001b[39m'\u001b[39m\u001b[39mobject\u001b[39m\u001b[39m'\u001b[39m])\u001b[39m.\u001b[39mcolumns\n",
      "\u001b[0;31mNameError\u001b[0m: name 'customers' is not defined"
     ]
    }
   ],
   "source": [
    "customers.select_dtypes(include=['int64']).columns\n",
    "customers.select_dtypes(include=['float64']).columns\n",
    "customers.select_dtypes(include=['object']).columns"
   ]
  },
  {
   "cell_type": "code",
   "execution_count": null,
   "metadata": {},
   "outputs": [],
   "source": [
    "# Printing the amount of features available in total\n",
    "count_numerical = len(customers.select_dtypes(include=['int64','float64']).columns)\n",
    "count_categorical = len(customers.select_dtypes(include=['object']).columns)\n",
    "count_total = count_categorical + count_numerical\n",
    "print('Total Features: ', count_categorical, 'categorical', '+',\n",
    "      count_numerical, 'numerical', '=', count_total, 'features')"
   ]
  },
  {
   "cell_type": "code",
   "execution_count": null,
   "metadata": {},
   "outputs": [],
   "source": [
    "# Detecting the number of missing or null values per variable\n",
    "pd.concat([customers.isnull().sum(),customers.isna().sum(min_count=1)],keys=['Nulls','Empty'],axis=1).sort_values(by='Nulls', ascending=False)[:20]"
   ]
  },
  {
   "cell_type": "code",
   "execution_count": null,
   "metadata": {},
   "outputs": [],
   "source": [
    "# Encoding \"Fashion News Frequency\" variable\n",
    "def encode_fashion(x):\n",
    "    if x == 'NONE' or x == 'None':\n",
    "        return 0\n",
    "    if x == 'Regularly':\n",
    "        return 1\n",
    "    if x == 'Monthly':\n",
    "        return 2\n",
    "    if x == 'nan':\n",
    "        return \"\"\n",
    "    \n",
    "customers['fashion_news_frequency'] = customers['fashion_news_frequency'].transform(encode_fashion)\n",
    "customers\n",
    "\n",
    "#%%\n",
    "# Imputing missing values\n",
    "customers[\"Active\"] = customers[\"Active\"].fillna(0)\n",
    "customers[\"FN\"] = customers[\"FN\"].fillna(0)\n",
    "customers[\"fashion_news_frequency\"] = customers[\"fashion_news_frequency\"].interpolate(method ='pad', limit_direction ='forward')\n",
    "customers[\"club_member_status\"] = customers[\"club_member_status\"].fillna(\"INACTIVE\")\n",
    "customers[\"age\"] = customers[\"age\"].interpolate(method ='pad', limit_direction ='forward')\n",
    "\n",
    "#%%\n",
    "# Encoding \"Club Member Status\" variable\n",
    "def encode_club(x):\n",
    "    if x == 'INACTIVE':\n",
    "        return 0\n",
    "    if x == 'ACTIVE':\n",
    "        return 1\n",
    "    if x == 'LEFT CLUB':\n",
    "        return 3\n",
    "    if x == 'PRE-CREATE':\n",
    "        return 4\n",
    "    \n",
    "customers['club_member_status'] = customers['club_member_status'].transform(encode_club)\n",
    "customers\n",
    "\n",
    "#%%\n",
    "# Transforming \"Active\", \"FN\", \"fashion_news_frequency\", and \"age\" variable\n",
    "customers['Active'] = customers['Active'].astype(int)\n",
    "customers['FN'] = customers['FN'].astype(int)\n",
    "customers['fashion_news_frequency'] = customers['fashion_news_frequency'].astype(int)\n",
    "customers['age'] = customers['age'].astype(int)\n",
    "customers['club_member_status'] = customers['club_member_status'].astype(int)"
   ]
  },
  {
   "cell_type": "code",
   "execution_count": null,
   "metadata": {},
   "outputs": [],
   "source": [
    "pd.concat([customers.isnull().sum(),customers.isna().sum(min_count=1)],keys=['Nulls','Empty'],axis=1).sort_values(by='Nulls', ascending=False)[:20]"
   ]
  },
  {
   "cell_type": "code",
   "execution_count": null,
   "metadata": {},
   "outputs": [],
   "source": [
    "# Decoding \"Club Member Status\" variable\n",
    "def decode_club(x):\n",
    "    if x == 0:\n",
    "        return 'INACTIVE'\n",
    "    if x == 1:\n",
    "        return 'ACTIVE'\n",
    "    if x == 3:\n",
    "        return 'LEFT CLUB'\n",
    "    if x == 4:\n",
    "        return 'PRE-CREATE'\n",
    "    \n",
    "customers['club_member_status'] = customers['club_member_status'].transform(decode_club)\n",
    "customers\n"
   ]
  },
  {
   "cell_type": "code",
   "execution_count": null,
   "metadata": {},
   "outputs": [],
   "source": [
    "# Uploading data to database\n",
    "customers.to_sql(name = \"customers\", con = conn, if_exists = 'replace', index = False) # no index will be uploaded to database as False"
   ]
  },
  {
   "cell_type": "code",
   "execution_count": null,
   "metadata": {},
   "outputs": [],
   "source": [
    "result = conn.execute(\"SHOW TABLES;\").fetchall()\n",
    "for r in result:\n",
    "    print(r) # "
   ]
  }
 ],
 "metadata": {
  "kernelspec": {
   "display_name": "base",
   "language": "python",
   "name": "python3"
  },
  "language_info": {
   "codemirror_mode": {
    "name": "ipython",
    "version": 3
   },
   "file_extension": ".py",
   "mimetype": "text/x-python",
   "name": "python",
   "nbconvert_exporter": "python",
   "pygments_lexer": "ipython3",
   "version": "3.9.12"
  },
  "orig_nbformat": 4,
  "vscode": {
   "interpreter": {
    "hash": "41c8615d3a1384478d4a1bd593ccf05fef5ae623a4311fa8d4e4b94d82c76821"
   }
  }
 },
 "nbformat": 4,
 "nbformat_minor": 2
}
